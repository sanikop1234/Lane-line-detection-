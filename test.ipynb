{
  "nbformat": 4,
  "nbformat_minor": 0,
  "metadata": {
    "kernelspec": {
      "display_name": "Python 3",
      "language": "python",
      "name": "python3"
    },
    "language_info": {
      "codemirror_mode": {
        "name": "ipython",
        "version": 3
      },
      "file_extension": ".py",
      "mimetype": "text/x-python",
      "name": "python",
      "nbconvert_exporter": "python",
      "pygments_lexer": "ipython3",
      "version": "3.5.6"
    },
    "colab": {
      "name": "lane_detection.ipynb",
      "provenance": [],
      "toc_visible": true
    }
  },
  "cells": [
    {
      "cell_type": "code",
      "metadata": {
        "id": "Wq84G1V_ztuO"
      },
      "source": [
        "pip install scipy==0.19.1"
      ],
      "execution_count": null,
      "outputs": []
    },
    {
      "cell_type": "code",
      "metadata": {
        "id": "rIRR8fqhyGBU"
      },
      "source": [
        "from google.colab import drive\n",
        "drive.mount('/content/drive')"
      ],
      "execution_count": null,
      "outputs": []
    },
    {
      "cell_type": "code",
      "metadata": {
        "id": "YfjeaU0jkaG_"
      },
      "source": [
        "# import the libaries\n",
        "\n",
        "import numpy as np\n",
        "import cv2,glob,os\n",
        "import matplotlib.image as mpimg\n",
        "from scipy.misc import imresize\n",
        "from moviepy.editor import VideoFileClip\n",
        "from IPython.display import HTML\n",
        "from keras.models import model_from_json\n",
        "import matplotlib.pyplot as plt"
      ],
      "execution_count": null,
      "outputs": []
    },
    {
      "cell_type": "code",
      "metadata": {
        "colab": {
          "base_uri": "https://localhost:8080/",
          "height": 34
        },
        "id": "kuR3QVORkaHA",
        "outputId": "b230a3fb-aaec-472e-8588-4eb23e78f818"
      },
      "source": [
        "# plot the testing image\n",
        "\n",
        "# show the images \n",
        "def show_images(images, cmap=None):\n",
        "    cols = 2\n",
        "    rows = (len(images)+1)//cols\n",
        "    \n",
        "    plt.figure(figsize=(10, 11))\n",
        "    for i, image in enumerate(images):\n",
        "        plt.subplot(rows, cols, i+1)\n",
        "        # use gray scale color map if there is only one channel\n",
        "        cmap = 'gray' if len(image.shape)==2 else cmap\n",
        "        plt.imshow(image, cmap=cmap)\n",
        "        plt.xticks([])\n",
        "        plt.yticks([])\n",
        "    plt.tight_layout(pad=0, h_pad=0, w_pad=0)\n",
        "    plt.show()\n",
        "\n",
        "test_images = [plt.imread(path) for path in glob.glob('/content/drive/MyDrive/Approach-2/test_images/*.jpg')]\n",
        "\n",
        "show_images(test_images)"
      ],
      "execution_count": null,
      "outputs": [
        {
          "output_type": "display_data",
          "data": {
            "text/plain": [
              "<Figure size 720x792 with 0 Axes>"
            ]
          },
          "metadata": {
            "tags": []
          }
        }
      ]
    },
    {
      "cell_type": "code",
      "metadata": {
        "id": "A_iJtJW3kaHB"
      },
      "source": [
        "# Load pretrained model\n",
        "\n",
        "# load the model json file \n",
        "json_file = open('/content/drive/MyDrive/Approach-2/model.json', 'r')\n",
        "json_model = json_file.read()\n",
        "json_file.close()\n",
        "\n",
        "# load the model from the json\n",
        "model = model_from_json(json_model)\n",
        "# load the wieghts of the model\n",
        "model.load_weights('/content/drive/MyDrive/Approach-2/model.h5')"
      ],
      "execution_count": null,
      "outputs": []
    },
    {
      "cell_type": "code",
      "metadata": {
        "id": "Tb_j7AVSkaHB"
      },
      "source": [
        "# create a class Lane \n",
        "\n",
        "# Class to average lanes with\n",
        "class Lanes():\n",
        "    def __init__(self):\n",
        "        self.recent_fit = []\n",
        "        self.avg_fit = []"
      ],
      "execution_count": null,
      "outputs": []
    },
    {
      "cell_type": "code",
      "metadata": {
        "id": "Z5VfDUqPkaHB"
      },
      "source": [
        "# resize the image and predict the lane to be drawn from the model in G color\n",
        "\n",
        "def road_lines_image(image):\n",
        "    \n",
        "    img_arr = cv2.imread(image)\n",
        "    actual_image = imresize(img_arr, (720, 1280, 3))\n",
        "\n",
        "    # Get image ready for feeding into model\n",
        "    img = mpimg.imread(image)\n",
        "    small_img_2 = imresize(img, (80, 160, 3))\n",
        "    small_img_1= np.array(small_img_2)\n",
        "    small_img = small_img_1[None, :, :, :]\n",
        "\n",
        "    # Make prediction with neural network (un-normalize value by multiplying by 255)\n",
        "    prediction = model.predict(small_img)[0] * 255\n",
        "\n",
        "    # Add lane prediction to list for averaging\n",
        "    lanes.recent_fit.append(prediction)\n",
        "    # Only using last five for average\n",
        "    if len(lanes.recent_fit) > 5:\n",
        "        lanes.recent_fit = lanes.recent_fit[1:]\n",
        "\n",
        "    # Calculate average detection\n",
        "    lanes.avg_fit = np.mean(np.array([i for i in lanes.recent_fit]), axis = 0)\n",
        "\n",
        "    # Generate fake R & B color dimensions, stack with G\n",
        "    blanks = np.zeros_like(lanes.avg_fit).astype(np.uint8)\n",
        "    lane_drawn = np.dstack((blanks, lanes.avg_fit, blanks))\n",
        "\n",
        "    # Re-size to match the original image\n",
        "    lane_image = imresize(lane_drawn, (720, 1280, 3))\n",
        "\n",
        "    # Merge the lane drawing onto the original image\n",
        "    result = cv2.addWeighted(actual_image, 1, lane_image, 1, 0)\n",
        "\n",
        "    return result"
      ],
      "execution_count": null,
      "outputs": []
    },
    {
      "cell_type": "code",
      "metadata": {
        "id": "JsqHxdX0kaHC"
      },
      "source": [
        "# predict the lane detector \n",
        "\n",
        "#create a lanes object\n",
        "lanes = Lanes()\n",
        "\n",
        "for path in glob.glob('/content/drive/MyDrive/Approach-2/test_images/*.jpg'):\n",
        "    res_img = road_lines_image(path)\n",
        "    names = [os.path.basename(x) for x in glob.glob(path)]   \n",
        "    out_path = '/content/drive/MyDrive/Approach-2/test_images/'+names[0]\n",
        "    # save the result in a image\n",
        "    cv2.imwrite(out_path,res_img)\n",
        "   "
      ],
      "execution_count": null,
      "outputs": []
    },
    {
      "cell_type": "code",
      "metadata": {
        "id": "g9DWxfdakaHD"
      },
      "source": [
        "# plot the predicted result\n",
        "\n",
        "predicted_images = [plt.imread(path) for path in glob.glob('/content/drive/MyDrive/Approach-2/test_images/*.jpg')]\n",
        "\n",
        "show_images(predicted_images)"
      ],
      "execution_count": null,
      "outputs": []
    }
  ]
}
